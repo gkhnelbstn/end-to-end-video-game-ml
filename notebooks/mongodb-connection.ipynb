{
 "cells": [
  {
   "cell_type": "code",
   "execution_count": 1,
   "metadata": {},
   "outputs": [],
   "source": [
    "import pandas as pd\n",
    "from pymongo import MongoClient\n",
    "from dotenv import load_dotenv, find_dotenv\n",
    "import os\n",
    "import json"
   ]
  },
  {
   "cell_type": "code",
   "execution_count": 2,
   "metadata": {},
   "outputs": [
    {
     "data": {
      "text/plain": [
       "True"
      ]
     },
     "execution_count": 2,
     "metadata": {},
     "output_type": "execute_result"
    }
   ],
   "source": [
    "load_dotenv(find_dotenv())"
   ]
  },
  {
   "cell_type": "code",
   "execution_count": 3,
   "metadata": {},
   "outputs": [],
   "source": [
    "client = MongoClient(os.environ['MONGO_URI'])\n",
    "db = client[os.environ['MONGO_DB']]\n",
    "collection = db[os.environ['MONGO_COLLECTION']]\n",
    "api_key = os.environ['API_KEY']"
   ]
  },
  {
   "cell_type": "markdown",
   "metadata": {},
   "source": [
    "# Tek seferlik kullandım. Parquet dosyasını MongoDB'ye yüklemek için kullanıldı."
   ]
  },
  {
   "cell_type": "code",
   "execution_count": 4,
   "metadata": {},
   "outputs": [],
   "source": [
    "# # Read the Parquet file into a DataFrame\n",
    "# df = pd.read_parquet(r'C:\\Users\\gkhne\\Documents\\GitHub\\end-to-end-video-game-ml\\notebooks\\result.parquet')\n",
    "\n",
    "# # Connect to MongoDB\n",
    "# client = MongoClient(os.environ['MONGO_URI'])\n",
    "# db = client[os.environ['MONGO_DB']]\n",
    "# collection = db[os.environ['MONGO_COLLECTION']]\n",
    "# # Convert DataFrame to a list of dictionaries\n",
    "# data = df.to_dict(orient='records')\n",
    "\n",
    "# # Insert the data into MongoDB\n",
    "# collection.insert_many(data)\n",
    "\n",
    "# # Close the MongoDB connection\n",
    "# client.close()"
   ]
  },
  {
   "cell_type": "code",
   "execution_count": 5,
   "metadata": {},
   "outputs": [],
   "source": [
    "def query_collection_by_year(year):\n",
    "    # Query the collection for documents with released field starting with the specified year\n",
    "    query = {'released': {'$regex': f'^{year}'}}\n",
    "    cursor = collection.find(query)\n",
    "\n",
    "    # Convert the cursor to a list of dictionaries\n",
    "    data = list(cursor)\n",
    "\n",
    "    # Create a DataFrame from the data\n",
    "    df = pd.DataFrame(data)\n",
    "\n",
    "    # Print the DataFrame\n",
    "    return df"
   ]
  },
  {
   "cell_type": "code",
   "execution_count": 6,
   "metadata": {},
   "outputs": [],
   "source": [
    "df = query_collection_by_year('2019')"
   ]
  },
  {
   "cell_type": "code",
   "execution_count": 7,
   "metadata": {},
   "outputs": [],
   "source": [
    "def query_collection_by_name(game_name):\n",
    "    # Query the collection for documents with the specified game name\n",
    "    query = {'name': {'$regex': f'^{game_name}'}}\n",
    "    \n",
    "    cursor = collection.find(query)\n",
    "\n",
    "    # Convert the cursor to a list of dictionaries\n",
    "    data = list(cursor)\n",
    "\n",
    "    # Create a DataFrame from the data\n",
    "    df = pd.DataFrame(data)\n",
    "\n",
    "    # Print the DataFrame\n",
    "    return df"
   ]
  },
  {
   "cell_type": "code",
   "execution_count": 8,
   "metadata": {},
   "outputs": [],
   "source": [
    "df = query_collection_by_name('Grand Theft Auto')\n",
    "df = df[df['slug'] == \"grand-theft-auto-v\"]"
   ]
  },
  {
   "cell_type": "code",
   "execution_count": 9,
   "metadata": {},
   "outputs": [],
   "source": [
    "import requests\n",
    "\n",
    "def game_trailers(game_name):\n",
    "    url = f\"https://api.rawg.io/api/games/{game_name}/movies\"\n",
    "    params = {\"key\": api_key}\n",
    "\n",
    "    response = requests.get(url, params=params)\n",
    "\n",
    "    if response.status_code == 200:\n",
    "        movies = response.json()\n",
    "        return movies['results'][0]['data']['480']\n",
    "    else:\n",
    "        return \"Request failed with status code:\", response.status_code\n"
   ]
  },
  {
   "cell_type": "code",
   "execution_count": 10,
   "metadata": {},
   "outputs": [
    {
     "data": {
      "text/plain": [
       "'https://steamcdn-a.akamaihd.net/steam/apps/256693661/movie480.mp4'"
      ]
     },
     "execution_count": 10,
     "metadata": {},
     "output_type": "execute_result"
    }
   ],
   "source": [
    "game_trailers(\"grand-theft-auto-v\")\n"
   ]
  }
 ],
 "metadata": {
  "kernelspec": {
   "display_name": ".venv",
   "language": "python",
   "name": "python3"
  },
  "language_info": {
   "codemirror_mode": {
    "name": "ipython",
    "version": 3
   },
   "file_extension": ".py",
   "mimetype": "text/x-python",
   "name": "python",
   "nbconvert_exporter": "python",
   "pygments_lexer": "ipython3",
   "version": "3.11.9"
  }
 },
 "nbformat": 4,
 "nbformat_minor": 2
}
