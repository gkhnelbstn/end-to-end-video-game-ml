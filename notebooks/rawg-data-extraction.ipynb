{
 "cells": [
  {
   "cell_type": "code",
   "execution_count": 27,
   "metadata": {},
   "outputs": [],
   "source": [
    "import pandas as pd\n",
    "import os\n",
    "from dotenv import find_dotenv, load_dotenv\n",
    "import requests\n",
    "import time"
   ]
  },
  {
   "cell_type": "code",
   "execution_count": 19,
   "metadata": {},
   "outputs": [],
   "source": [
    "find_dotenv()\n",
    "\n",
    "load_dotenv()\n",
    "\n",
    "api_key = os.getenv(\"API_KEY\")"
   ]
  },
  {
   "cell_type": "code",
   "execution_count": 25,
   "metadata": {},
   "outputs": [
    {
     "data": {
      "text/plain": [
       "'e87ecc3e43b943deac5d46ec94d5fb39'"
      ]
     },
     "execution_count": 25,
     "metadata": {},
     "output_type": "execute_result"
    }
   ],
   "source": [
    "api_key"
   ]
  },
  {
   "cell_type": "code",
   "execution_count": null,
   "metadata": {},
   "outputs": [],
   "source": [
    "2019, 2018, 2017, 2016, 2015"
   ]
  },
  {
   "cell_type": "code",
   "execution_count": 33,
   "metadata": {},
   "outputs": [
    {
     "name": "stdout",
     "output_type": "stream",
     "text": [
      "Retrieved 813 games released in 1999 and saved to data\\raw\\games_1999.csv\n",
      "Retrieved 752 games released in 1998 and saved to data\\raw\\games_1998.csv\n",
      "Retrieved 881 games released in 1997 and saved to data\\raw\\games_1997.csv\n",
      "Retrieved 791 games released in 1996 and saved to data\\raw\\games_1996.csv\n",
      "Retrieved 878 games released in 1995 and saved to data\\raw\\games_1995.csv\n",
      "Retrieved 839 games released in 1994 and saved to data\\raw\\games_1994.csv\n",
      "Retrieved 761 games released in 1993 and saved to data\\raw\\games_1993.csv\n",
      "Retrieved 672 games released in 1992 and saved to data\\raw\\games_1992.csv\n",
      "Retrieved 589 games released in 1991 and saved to data\\raw\\games_1991.csv\n",
      "Retrieved 545 games released in 1990 and saved to data\\raw\\games_1990.csv\n",
      "Retrieved 440 games released in 1989 and saved to data\\raw\\games_1989.csv\n",
      "Retrieved 325 games released in 1988 and saved to data\\raw\\games_1988.csv\n",
      "Retrieved 348 games released in 1987 and saved to data\\raw\\games_1987.csv\n",
      "Retrieved 254 games released in 1986 and saved to data\\raw\\games_1986.csv\n",
      "Retrieved 231 games released in 1985 and saved to data\\raw\\games_1985.csv\n",
      "Retrieved 185 games released in 1984 and saved to data\\raw\\games_1984.csv\n",
      "Retrieved 207 games released in 1983 and saved to data\\raw\\games_1983.csv\n",
      "Retrieved 149 games released in 1982 and saved to data\\raw\\games_1982.csv\n",
      "Retrieved 66 games released in 1981 and saved to data\\raw\\games_1981.csv\n",
      "Retrieved 35 games released in 1980 and saved to data\\raw\\games_1980.csv\n"
     ]
    }
   ],
   "source": [
    "# Base URL for the games endpoint\n",
    "base_url = \"https://api.rawg.io/api/games\"\n",
    "\n",
    "# Define the range of years you want to retrieve data for\n",
    "years = [1999, 1998, 1997, 1996, 1995, 1994, 1993, 1992, 1991, 1990, 1989, 1988, 1987, 1986, 1985, 1984, 1983, 1982, 1981, 1980]\n",
    "\n",
    "# Define the directory to save the CSV files\n",
    "output_dir = os.path.join(\"data\", \"raw\")\n",
    "\n",
    "# Create the directory if it doesn't exist\n",
    "os.makedirs(output_dir, exist_ok=True)\n",
    "\n",
    "# Function to make requests with retries\n",
    "def make_request(url, params, retries=5, backoff_factor=1.0):\n",
    "    for i in range(retries):\n",
    "        try:\n",
    "            response = requests.get(url, params=params)\n",
    "            response.raise_for_status()\n",
    "            return response\n",
    "        except requests.exceptions.HTTPError as http_err:\n",
    "            if response.status_code == 404:\n",
    "                print(f\"404 Error: {response.json()['detail']}. No more pages available.\")\n",
    "                return None\n",
    "            elif response.status_code == 502:\n",
    "                print(f\"502 Server Error: {http_err}. Retrying in {backoff_factor * (2 ** i)} seconds...\")\n",
    "                time.sleep(backoff_factor * (2 ** i))\n",
    "            else:\n",
    "                print(f\"HTTP error occurred: {http_err}\")\n",
    "        except requests.exceptions.RequestException as e:\n",
    "            print(f\"Request failed: {e}. Retrying in {backoff_factor * (2 ** i)} seconds...\")\n",
    "            time.sleep(backoff_factor * (2 ** i))\n",
    "    print(\"Maximum retries exceeded for current request.\")\n",
    "    return None\n",
    "\n",
    "for year in years:\n",
    "    # Define default parameters\n",
    "    params = {\n",
    "        \"key\": api_key,\n",
    "        \"page\": 1,\n",
    "        \"page_size\": 40,  # Maximize the number of results per page\n",
    "        \"dates\": f\"{year}-01-01,{year}-12-31\"  # Filter games by the current year's release date\n",
    "    }\n",
    "\n",
    "    # Initialize an empty list to store all game results\n",
    "    all_games = []\n",
    "\n",
    "    while True:\n",
    "        # Send GET request with parameters\n",
    "        response = make_request(url=base_url, params=params)\n",
    "        \n",
    "        if response is None:\n",
    "            break  # Exit the loop if a 404 error or max retries exceeded\n",
    "        \n",
    "        # Parse the JSON response\n",
    "        data = response.json()\n",
    "        \n",
    "        # Add the results to the all_games list\n",
    "        all_games.extend(data['results'])\n",
    "        \n",
    "        # Check if there are more results to fetch\n",
    "        if 'next' in data and data['next']:\n",
    "            params['page'] += 1  # Increment the page number for the next request\n",
    "        else:\n",
    "            break  # Exit the loop if no more results are available\n",
    "\n",
    "    # Create a dataframe from the collected results\n",
    "    games_df = pd.DataFrame(all_games)\n",
    "     \n",
    "    # Define the CSV file name for the current year\n",
    "    csv_file_name = os.path.join(output_dir, f\"games_{year}.csv\")\n",
    "    \n",
    "    # Save the dataframe to a CSV file\n",
    "    games_df.to_csv(csv_file_name, index=False)\n",
    "    \n",
    "    # Print the number of retrieved games and the CSV file name\n",
    "    print(f\"Retrieved {len(all_games)} games released in {year} and saved to {csv_file_name}\")\n"
   ]
  },
  {
   "cell_type": "code",
   "execution_count": 35,
   "metadata": {},
   "outputs": [],
   "source": [
    "df = pd.read_csv(\"data/raw/games_2020.csv\")"
   ]
  }
 ],
 "metadata": {
  "kernelspec": {
   "display_name": ".venv",
   "language": "python",
   "name": "python3"
  },
  "language_info": {
   "codemirror_mode": {
    "name": "ipython",
    "version": 3
   },
   "file_extension": ".py",
   "mimetype": "text/x-python",
   "name": "python",
   "nbconvert_exporter": "python",
   "pygments_lexer": "ipython3",
   "version": "3.11.9"
  }
 },
 "nbformat": 4,
 "nbformat_minor": 2
}
